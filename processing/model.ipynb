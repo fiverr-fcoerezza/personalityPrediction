{
 "cells": [
  {
   "cell_type": "code",
   "execution_count": null,
   "metadata": {},
   "outputs": [],
   "source": [
    "import pandas as pd\n",
    "import matplotlib.pyplot as plt\n",
    "import seaborn as sns\n",
    "import numpy as np"
   ]
  },
  {
   "cell_type": "code",
   "execution_count": null,
   "metadata": {},
   "outputs": [],
   "source": [
    "df1 = pd.read_csv('data.csv',sep='\\t')\n",
    "df1.head()"
   ]
  },
  {
   "cell_type": "markdown",
   "metadata": {},
   "source": [
    "Exploring the data"
   ]
  },
  {
   "cell_type": "code",
   "execution_count": null,
   "metadata": {},
   "outputs": [],
   "source": [
    "a = []\n",
    "for i in df1.columns.unique():\n",
    "    a.append(i)\n"
   ]
  },
  {
   "cell_type": "code",
   "execution_count": null,
   "metadata": {},
   "outputs": [],
   "source": [
    "'''\n",
    "Remove the columns not needed.\n",
    "In this datset,the columns not needed are the columns containing the values such as \n",
    "time taken by user to anwer the question and time related value containg columns\n",
    "'''\n",
    "df2= df1\n",
    "df2.drop(df2.columns[50:107],axis=1,inplace=True)\n",
    "df2.drop(df2.columns[51:],axis=1,inplace=True)\n",
    "df2.head()"
   ]
  },
  {
   "cell_type": "code",
   "execution_count": null,
   "metadata": {},
   "outputs": [],
   "source": [
    "df2.isnull().sum()"
   ]
  },
  {
   "cell_type": "code",
   "execution_count": null,
   "metadata": {},
   "outputs": [],
   "source": [
    "df2.dropna(inplace=True)\n",
    "df2.isnull().count()"
   ]
  },
  {
   "cell_type": "code",
   "execution_count": null,
   "metadata": {},
   "outputs": [],
   "source": [
    "countries = pd.DataFrame(df2['country'].value_counts())\n",
    "\n",
    "plt.figure(figsize=(10,6))\n",
    "sns.barplot(data=countries[countries['country']>=5000],x=countries[countries['country']>=5000].index,y='country')"
   ]
  },
  {
   "cell_type": "markdown",
   "metadata": {},
   "source": [
    "Therefore maximum values for questions answered are from the country US"
   ]
  },
  {
   "cell_type": "code",
   "execution_count": null,
   "metadata": {},
   "outputs": [],
   "source": [
    "# visual representation of the questions \n",
    "\n",
    "def visualise_it(type,questions,color):\n",
    "    plt.figure(figsize=(50,70))\n",
    "    for i in range(1,11):\n",
    "        plt.subplot(10,5,i)\n",
    "        sns.histplot(df2[type[i-1]],bins=14,color=color)\n",
    "        plt.title(questions[type[i-1]],fontsize=18)\n"
   ]
  },
  {
   "cell_type": "code",
   "execution_count": null,
   "metadata": {},
   "outputs": [],
   "source": [
    "ext_questions = {\n",
    "    'EXT1' :\t'I am the life of the party.',\n",
    "    'EXT2'\t: \"I don't talk a lot.\",\n",
    "    'EXT3'\t: 'I feel comfortable around people.',\n",
    "    'EXT4'\t: 'I keep in the background.',\n",
    "    'EXT5'\t: 'I start conversations.',\n",
    "    'EXT6'\t: 'I have little to say.',\n",
    "    'EXT7'\t: 'I talk to a lot of different people at parties.',\n",
    "    'EXT8'\t: \"I don't like to draw attention to myself.\",\n",
    "    'EXT9'\t: \"I don't mind being the center of attention.\",\n",
    "    'EXT10': '\tI am quiet around strangers.'\n",
    "}\n",
    "est_questions = {\n",
    "    'EST1'\t : 'I get stressed out easily.',\n",
    "    'EST2'\t : 'I am relaxed most of the time.',\n",
    "    'EST3'\t : 'I worry about things.',\n",
    "    'EST4'\t : 'I seldom feel blue.',\n",
    "    'EST5'\t : 'I am easily disturbed.',\n",
    "    'EST6'\t : 'I get upset easily.',\n",
    "    'EST7'\t : 'I change my mood a lot.',\n",
    "    'EST8'\t : 'I have frequent mood swings.',\n",
    "    'EST9'\t : 'I get irritated easily.',\n",
    "    'EST10' : 'I often feel blue.'\n",
    "}\n",
    "\n",
    "agr_questions = {\n",
    "    'AGR1'\t : 'I feel little concern for others.',\n",
    "    'AGR2'\t : 'I am interested in people.',\n",
    "    'AGR3'\t : 'I insult people.',\n",
    "    'AGR4'\t : \"I sympathize with others' feelings.\",\n",
    "    'AGR5'\t : \"I am not interested in other people's problems.\",\n",
    "    'AGR6'\t : 'I have a soft heart.',\n",
    "    'AGR7'\t : 'I am not really interested in others.',\n",
    "    'AGR8'\t : 'I take time out for others.',\n",
    "    'AGR9'\t : \"I feel others' emotions.\",\n",
    "    'AGR10' : '\tI make people feel at ease.'\n",
    "}\n",
    "\n",
    "csn_questions = {\n",
    "    'CSN1' : 'I am always prepared.',\n",
    "    'CSN2'  : 'I leave my belongings around.',\n",
    "    'CSN3'  : 'I pay attention to details.',\n",
    "    'CSN4'  : 'I make a mess of things.',\n",
    "    'CSN5'  : 'I get chores done right away.',\n",
    "    'CSN6'  : 'I often forget to put things back in their proper place.',\n",
    "    'CSN7'  : 'I like order.',\n",
    "    'CSN8'  : 'I shirk my duties.',\n",
    "    'CSN9'  : 'I follow a schedule.',\n",
    "    'CSN10' : 'I am exacting in my work.'\n",
    "}\n",
    "\n",
    "opn_questions = {\n",
    "    'OPN1'\t : 'I have a rich vocabulary.',\n",
    "    'OPN2'\t : 'I have difficulty understanding abstract ideas.',\n",
    "    'OPN3'\t : 'I have a vivid imagination.',\n",
    "    'OPN4'\t : 'I am not interested in abstract ideas.',\n",
    "    'OPN5'\t : 'I have excellent ideas.',\n",
    "    'OPN6'\t : 'I do not have a good imagination.',\n",
    "    'OPN7'\t : 'I am quick to understand things.',\n",
    "    'OPN8'\t : 'I use difficult words.',\n",
    "    'OPN9'\t : 'I spend time reflecting on things.',\n",
    "    'OPN10' : '\tI am full of ideas.'\n",
    "}"
   ]
  },
  {
   "cell_type": "code",
   "execution_count": null,
   "metadata": {},
   "outputs": [],
   "source": [
    "EXT = [col for col in df2 if col.startswith('EXT')]\n",
    "EST = [col for col in df2 if col.startswith('EST')]\n",
    "AGR = [col for col in df2 if col.startswith('AGR')]\n",
    "CSN = [col for col in df2 if col.startswith('CSN')]\n",
    "OPN = [col for col in df2 if col.startswith('OPN')]"
   ]
  },
  {
   "cell_type": "code",
   "execution_count": null,
   "metadata": {},
   "outputs": [],
   "source": [
    "visualise_it(EXT,ext_questions,'orange')  # visulaize extraversion questions"
   ]
  },
  {
   "cell_type": "code",
   "execution_count": null,
   "metadata": {},
   "outputs": [],
   "source": [
    "visualise_it(EST,est_questions,'blue')"
   ]
  },
  {
   "cell_type": "code",
   "execution_count": null,
   "metadata": {},
   "outputs": [],
   "source": [
    "visualise_it(AGR,agr_questions,'pink')"
   ]
  },
  {
   "cell_type": "code",
   "execution_count": null,
   "metadata": {},
   "outputs": [],
   "source": [
    "visualise_it(CSN,csn_questions,'purple')"
   ]
  },
  {
   "cell_type": "code",
   "execution_count": null,
   "metadata": {},
   "outputs": [],
   "source": [
    "visualise_it(OPN,opn_questions,'red')"
   ]
  },
  {
   "cell_type": "code",
   "execution_count": null,
   "metadata": {},
   "outputs": [],
   "source": [
    "# For ease of calculation lets scale all the values between 0-1 and take a sample of 5000 \n",
    "from sklearn.preprocessing import MinMaxScaler\n",
    "\n",
    "df3 = df2.drop('country', axis=1)\n",
    "columns = list(df3.columns)\n",
    "\n",
    "scaler = MinMaxScaler(feature_range=(0,1))\n",
    "df3 = scaler.fit_transform(df3)\n",
    "df3 = pd.DataFrame(df3, columns=columns)\n",
    "df_sample = df3[:5000]"
   ]
  },
  {
   "cell_type": "code",
   "execution_count": null,
   "metadata": {},
   "outputs": [],
   "source": [
    "'''The elbow method uses the sum of squared distance (SSE) to choose an ideal value of k based \n",
    "    on the distance between the data points and their assigned clusters'''\n",
    "# Visualize the elbow\n",
    "from sklearn.cluster import KMeans\n",
    "from yellowbrick.cluster import KElbowVisualizer\n",
    "\n",
    "kmeans = KMeans()\n",
    "visualizer = KElbowVisualizer(kmeans, k=(2,15))\n",
    "visualizer.fit(df_sample)\n",
    "visualizer.poof()"
   ]
  },
  {
   "cell_type": "markdown",
   "metadata": {},
   "source": [
    "this verified that the dataset contains 5 personality traits"
   ]
  },
  {
   "cell_type": "code",
   "execution_count": null,
   "metadata": {},
   "outputs": [],
   "source": [
    "from sklearn.cluster import KMeans\n",
    "\n",
    "# use the unscaled data but without the country column\n",
    "df_model = df2.drop('country', axis=1)\n",
    "\n",
    "# define 5 clusters and fit my model\n",
    "kmeans = KMeans(n_clusters=5)\n",
    "k_fit = kmeans.fit(df_model)"
   ]
  },
  {
   "cell_type": "code",
   "execution_count": null,
   "metadata": {},
   "outputs": [],
   "source": [
    "# Predicting the Clusters\n",
    "pd.options.display.max_columns = 10\n",
    "predictions = k_fit.labels_\n",
    "df_model['Clusters'] = predictions\n",
    "df_model.head()"
   ]
  },
  {
   "cell_type": "code",
   "execution_count": null,
   "metadata": {},
   "outputs": [],
   "source": [
    "df_model.Clusters.value_counts()"
   ]
  },
  {
   "cell_type": "code",
   "execution_count": null,
   "metadata": {},
   "outputs": [],
   "source": [
    "pd.options.display.max_columns = 150\n",
    "df_model.groupby('Clusters').mean()"
   ]
  },
  {
   "cell_type": "code",
   "execution_count": null,
   "metadata": {},
   "outputs": [],
   "source": [
    "# Summing up the different questions groups\n",
    "col_list = list(df_model)\n",
    "ext = col_list[0:10]\n",
    "est = col_list[10:20]\n",
    "agr = col_list[20:30]\n",
    "csn = col_list[30:40]\n",
    "opn = col_list[40:50]\n",
    "\n",
    "data_sums = pd.DataFrame()\n",
    "data_sums['extroversion'] = df_model[ext].sum(axis=1)/10\n",
    "data_sums['neurotic'] = df_model[est].sum(axis=1)/10\n",
    "data_sums['agreeable'] = df_model[agr].sum(axis=1)/10\n",
    "data_sums['conscientious'] = df_model[csn].sum(axis=1)/10\n",
    "data_sums['open'] = df_model[opn].sum(axis=1)/10\n",
    "data_sums['clusters'] = predictions\n",
    "data_sums.groupby('clusters').mean()"
   ]
  },
  {
   "cell_type": "code",
   "execution_count": null,
   "metadata": {},
   "outputs": [],
   "source": [
    "# Visualizing the means for each cluster\n",
    "dataclusters = data_sums.groupby('clusters').mean()\n",
    "plt.figure(figsize=(22,3))\n",
    "for i in range(0, 5):\n",
    "    plt.subplot(1,5,i+1)\n",
    "    plt.bar(dataclusters.columns, dataclusters.iloc[:, i], color='green', alpha=0.2)\n",
    "    plt.plot(dataclusters.columns, dataclusters.iloc[:, i], color='red')\n",
    "    plt.title('Cluster ' + str(i))\n",
    "    plt.xticks(rotation=45)\n",
    "    plt.ylim(0,4)"
   ]
  },
  {
   "cell_type": "code",
   "execution_count": null,
   "metadata": {},
   "outputs": [],
   "source": [
    "# In order to visualize in 2D graph I will use PCA\n",
    "from sklearn.decomposition import PCA\n",
    "\n",
    "pca = PCA(n_components=2)\n",
    "pca_fit = pca.fit_transform(df_model)\n",
    "\n",
    "df_pca = pd.DataFrame(data=pca_fit, columns=['PCA1', 'PCA2'])\n",
    "df_pca['Clusters'] = predictions\n",
    "df_pca.head()"
   ]
  },
  {
   "cell_type": "code",
   "execution_count": null,
   "metadata": {},
   "outputs": [],
   "source": [
    "plt.figure(figsize=(10,10))\n",
    "sns.scatterplot(data=df_pca, x='PCA1', y='PCA2', hue='Clusters', palette='Set2', alpha=0.8)\n",
    "plt.title('Personality Clusters after PCA')"
   ]
  },
  {
   "cell_type": "code",
   "execution_count": null,
   "metadata": {},
   "outputs": [],
   "source": [
    "import pickle \n",
    "with open('persona.pickle','wb') as f:\n",
    "    pickle.dump(k_fit,f)"
   ]
  }
 ],
 "metadata": {
  "interpreter": {
   "hash": "8da01e5a71448ea74f54d88afa8911010d1d12e23bc7e103d40d5def4a09152c"
  },
  "kernelspec": {
   "display_name": "Python 3.9.1 64-bit",
   "language": "python",
   "name": "python3"
  },
  "language_info": {
   "codemirror_mode": {
    "name": "ipython",
    "version": 3
   },
   "file_extension": ".py",
   "mimetype": "text/x-python",
   "name": "python",
   "nbconvert_exporter": "python",
   "pygments_lexer": "ipython3",
   "version": "3.9.1"
  },
  "orig_nbformat": 4
 },
 "nbformat": 4,
 "nbformat_minor": 2
}
